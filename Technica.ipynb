{
  "nbformat": 4,
  "nbformat_minor": 0,
  "metadata": {
    "colab": {
      "provenance": []
    },
    "kernelspec": {
      "name": "python3",
      "display_name": "Python 3"
    },
    "language_info": {
      "name": "python"
    }
  },
  "cells": [
    {
      "cell_type": "code",
      "source": [
        "# Stock Market Simulator\n",
        "# User input - pick upto 3 stocks\n",
        "# Calculator - Balance after selecting stocks (start with 5k)\n",
        "# Random Generator - Pick which stocks perform well\n",
        "  # If user selected stock == random generated stock: profit, i++\n",
        "  # else: Loss i--\n",
        "# Game end: if i>5k, profit; i<5k loss; i = 5k --> neither\n",
        "\n",
        "\n",
        "# List of stocks we are using and price:\n",
        "# 1. Apple -\n",
        "# 2. Amazon -\n",
        "# 3. Nike -\n",
        "# 4. Google -\n",
        "# 5. Meta -\n",
        "# 6. Microsoft -\n",
        "# 7. Tesla -"
      ],
      "metadata": {
        "id": "eikjC57Fk3hT"
      },
      "execution_count": null,
      "outputs": []
    },
    {
      "cell_type": "code",
      "source": [
        "# Start of the game ATM simulator\n",
        "import random\n",
        "\n",
        "old_bal = random.randint(2500,5000)\n",
        "print(\"It's payday! You just earned: $\", old_bal)"
      ],
      "metadata": {
        "id": "VXNdqugAJ6Fu",
        "colab": {
          "base_uri": "https://localhost:8080/"
        },
        "outputId": "7152b852-2b01-4aa1-c1f2-7d75fbfc324c"
      },
      "execution_count": 1,
      "outputs": [
        {
          "output_type": "stream",
          "name": "stdout",
          "text": [
            "It's payday! You just earned: $ 2656\n"
          ]
        }
      ]
    },
    {
      "cell_type": "code",
      "source": [
        "# Educate - What are Ticker symbols?\n",
        "\n",
        "ticker = {\"Apple\": \"AAPL\",\"Amazon\": \"AMZN\",\"Google\": \"GOOGL\",\"Meta\":\n",
        "          \"FB\",\"Microsoft\": \"MSFT\",\"Tesla\": \"TSLA\"\n",
        "          }\n",
        "\n",
        "print(\"Did you know: A stock symbol, or a Ticker, is the unique symbol that represents a company's stock.\")\n",
        "print(\"\\nHere is a list of some popular stocks and their Tickers:\")\n",
        "\n",
        "for i, (company, stock) in enumerate(ticker.items(), start=1):\n",
        "    print(f\"{i}. {company} - {stock}\")"
      ],
      "metadata": {
        "id": "Gw6SuIB_i-n_",
        "colab": {
          "base_uri": "https://localhost:8080/"
        },
        "outputId": "51739b4f-ace1-4316-b109-c8d37fc951e3"
      },
      "execution_count": 2,
      "outputs": [
        {
          "output_type": "stream",
          "name": "stdout",
          "text": [
            "Did you know: A stock symbol, or a Ticker, is the unique symbol that represents a company's stock.\n",
            "\n",
            "Here is a list of some popular stocks and their Tickers:\n",
            "1. Apple - AAPL\n",
            "2. Amazon - AMZN\n",
            "3. Google - GOOGL\n",
            "4. Meta - FB\n",
            "5. Microsoft - MSFT\n",
            "6. Tesla - TSLA\n"
          ]
        }
      ]
    },
    {
      "cell_type": "code",
      "source": [
        "# Dataframe - 7 Day dataframe of prices for 7 days\n",
        "\n",
        "import pandas as pd\n",
        "import numpy as np\n",
        "\n",
        "\n",
        "days = ['Day 1', 'Day 2', 'Day 3', 'Day 4', 'Day 5', 'Day 6', 'Day 7']\n",
        "names = ['APPL', 'AMZN', 'GOOGL', 'FB', 'MSFT', 'TSLA']\n",
        "name_ranges = {'APPL': (500, 1000),\n",
        "               'AMZN': (0, 200),\n",
        "               'GOOGL': (800, 1300),\n",
        "               'FB': (200, 700),\n",
        "               'MSFT': (400, 900),\n",
        "               'TSLA': (1300, 1500)}\n",
        "\n",
        "df = pd.DataFrame(index = names, columns = days)\n",
        "\n",
        "# inserting the data into the df\n",
        "for company in names:\n",
        "  for day in days:\n",
        "    range_min, range_max = name_ranges[company]\n",
        "    df.loc[company, :] = np.random.randint(range_min, range_max) for _ in range(7)]\n",
        "\n",
        "\n"
      ],
      "metadata": {
        "colab": {
          "base_uri": "https://localhost:8080/",
          "height": 143
        },
        "id": "eVPGE99rlRUK",
        "outputId": "8dcc4b18-b0f3-4508-e341-bb82dedd7516"
      },
      "execution_count": 3,
      "outputs": [
        {
          "output_type": "error",
          "ename": "SyntaxError",
          "evalue": "ignored",
          "traceback": [
            "\u001b[0;36m  File \u001b[0;32m\"<ipython-input-3-4a4787220b20>\"\u001b[0;36m, line \u001b[0;32m22\u001b[0m\n\u001b[0;31m    df.loc[company, :] = np.random.randint(range_min, range_max) for _ in range(7)]\u001b[0m\n\u001b[0m                                                                                  ^\u001b[0m\n\u001b[0;31mSyntaxError\u001b[0m\u001b[0;31m:\u001b[0m unmatched ']'\n"
          ]
        }
      ]
    },
    {
      "cell_type": "code",
      "source": [
        "import random\n",
        "\n",
        "# getting last day data\n",
        "last_day = df.loc[:, 'Day 7'].to_dict()\n",
        "ori_price = {company: random.randint(range_min, range_max) for company, (range_min, range_max) in range(6)}\n",
        "\n",
        "# calculate price differences\n",
        "price = {company: last_day[company] - ori_price[company] for company in names}\n",
        "\n",
        "#price = [random.randint(-1500, 1500) for _ in range(6)]\n",
        "\n",
        "# dict for companies\n",
        "companies = {\"AAPL\": price[0],\"AMZN\": price[1],\"GOOGL\": price[2],\"FB\": price[3],\"MSFT\": price[4],\"TSLA\": price[5]}\n",
        "\n",
        "# Prompt the user to choose 3 items\n",
        "print(\"Choose 3 items from the list and the corresponding amount of stocks (1-5) to see their random numbers:\")\n",
        "for i, company in enumerate(companies.keys(), start=1):\n",
        "    print(f\"{i}. {company}\")\n",
        "\n",
        "chosen_items = []\n",
        "price_items = []\n",
        "for _ in range(3):\n",
        "  try: # number inputted has to be between 1-6\n",
        "    choice = int(input(\"Enter the number of the item you want to choose: \"))\n",
        "    if 1 <= choice <= 6:\n",
        "      amount = int(input(\"Enter the amount of stocks (1-5): \\n\"))\n",
        "      if 1 <= amount <= 5:\n",
        "        chosen_items.append(list(companies.keys())[choice - 1])\n",
        "        price_of_stocks = amount * companies[chosen_items[-1]]\n",
        "        price_items.append(price_of_stocks)\n",
        "      else:\n",
        "        print(\"Invalid input. Please enter a number between 1 through 5.\")\n",
        "    else:\n",
        "      print(\"Invalid choice. Please choose a number between 1 and 7.\")\n",
        "  except ValueError:\n",
        "      print(\"Invalid input. Please enter a number.\")\n",
        "\n",
        "# Print the random numbers for the chosen items\n",
        "\n",
        "# dictionary containing stock price changes\n",
        "stock_prices = {}\n",
        "for i, item in enumerate(chosen_items, start=1):\n",
        "  print(f\"\\nResults:\\n{item} \\nprice change: {companies[item]}\")\n",
        "  print(f\"Amount gained or lost for\\n {item}: {price_items[i - 1]}\")\n",
        "  stock_prices[f\"stock{i}\"] = price_items[i - 1]\n",
        "\n",
        "old_bal = 5000\n",
        "# run calculator\n",
        "def calculator(old_bal, stock_prices):\n",
        "  # stock1 2 and 3 are the price changes throughout the days\n",
        "  # old_bal is the balance taken in\n",
        "  # new_bal is the balance returned\n",
        "\n",
        "  #calculation\n",
        "  new_bal = old_bal + sum(stock_prices.values())\n",
        "  return new_bal\n",
        "\n",
        "new_bal = calculator(old_bal, stock_prices)\n",
        "print(\"New Balance: \", new_bal)"
      ],
      "metadata": {
        "id": "PQL8j6lwARzT"
      },
      "execution_count": null,
      "outputs": []
    },
    {
      "cell_type": "code",
      "source": [
        "# Calculate profit or loss\n",
        "\n",
        "if(new_bal>old_bal): # profit\n",
        "  print(\"Congratulations! You just earned a profit of: $\", new_bal-old_bal)\n",
        "elif(old)"
      ],
      "metadata": {
        "id": "uBZI0d9ejS-s",
        "colab": {
          "base_uri": "https://localhost:8080/",
          "height": 143
        },
        "outputId": "763a23d6-ce36-4d2a-8333-ad997e9916b0"
      },
      "execution_count": 4,
      "outputs": [
        {
          "output_type": "error",
          "ename": "SyntaxError",
          "evalue": "ignored",
          "traceback": [
            "\u001b[0;36m  File \u001b[0;32m\"<ipython-input-4-2a0166d37969>\"\u001b[0;36m, line \u001b[0;32m5\u001b[0m\n\u001b[0;31m    elif(old)\u001b[0m\n\u001b[0m             ^\u001b[0m\n\u001b[0;31mSyntaxError\u001b[0m\u001b[0;31m:\u001b[0m expected ':'\n"
          ]
        }
      ]
    },
    {
      "cell_type": "markdown",
      "source": [
        ""
      ],
      "metadata": {
        "id": "c8YhCahVRwE_"
      }
    },
    {
      "cell_type": "markdown",
      "source": [
        "2    UI/UX\n",
        "        - home screen with two options: play ATM simulator or Stock Market Simulator\n",
        "        - In Stock Market simulator: if the user's choice matches the random's generators choice, its a profit; else loss. In game end, calculate earning.\n",
        "        - ATM simulator: Balance, deposit, withdrawal, previous transaction, exit"
      ],
      "metadata": {
        "id": "htUlpgZs-X4O"
      }
    },
    {
      "cell_type": "code",
      "source": [],
      "metadata": {
        "id": "ORTRsMiC6fne"
      },
      "execution_count": 4,
      "outputs": []
    }
  ]
}